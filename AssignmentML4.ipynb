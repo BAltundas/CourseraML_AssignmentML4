{
 "cells": [
  {
   "cell_type": "markdown",
   "metadata": {},
   "source": [
    "PLEASE NOTE: Please run this notebook OUTSIDE a Spark notebook as it should run in a plain Default Python 3.6 Free Environment\n",
    "\n",
    "This is the last assignment for the Coursera course \"Advanced Machine Learning and Signal Processing\"\n",
    "\n",
    "Just execute all cells one after the other and you are done - just note that in the last one you should update your email address (the one you've used for coursera) and obtain a submission token, you get this from the programming assignment directly on coursera.\n",
    "\n",
    "Please fill in the sections labelled with \"###YOUR_CODE_GOES_HERE###\"\n",
    "\n",
    "The purpose of this assignment is to learn how feature engineering boosts model performance. You will apply Discrete Fourier Transformation on the accelerometer sensor time series and therefore transforming the dataset from the time to the frequency domain.\n",
    "\n",
    "After that, you’ll use a classification algorithm of your choice to create a model and submit the new predictions to the grader. Done.\n"
   ]
  },
  {
   "cell_type": "code",
   "execution_count": 1,
   "metadata": {
    "scrolled": true
   },
   "outputs": [],
   "source": [
    "import os\n",
    "package = \"systemml\"\n",
    "try:\n",
    "    __import__package\n",
    "except:\n",
    "    #! pip install systemml\n",
    "    os.system(\"pip install \"+ package)"
   ]
  },
  {
   "cell_type": "code",
   "execution_count": 2,
   "metadata": {},
   "outputs": [],
   "source": [
    "from IPython.display import Markdown, display\n",
    "\n",
    "def printmd(string):\n",
    "    display(Markdown('# <span style=\"color:red\">'+string+'</span>'))\n",
    "\n",
    "if ('sc' in locals() or 'sc' in globals()):\n",
    "    printmd('<<<<<!!!!! It seems that you are running in a IBM Watson Studio Apache Spark Notebook. Please run it in an IBM Watson Studio Default Runtime (without Apache Spark) !!!!!>>>>>')"
   ]
  },
  {
   "cell_type": "code",
   "execution_count": 3,
   "metadata": {},
   "outputs": [],
   "source": [
    "package = \"pyspark==2.4.5\"\n",
    "try:\n",
    "    __import__package\n",
    "except:\n",
    "    #! pip install systemml\n",
    "    os.system(\"pip install \"+ package)\n",
    "\n",
    "#!pip install pyspark==2.4.5"
   ]
  },
  {
   "cell_type": "code",
   "execution_count": 4,
   "metadata": {
    "scrolled": true
   },
   "outputs": [
    {
     "name": "stdout",
     "output_type": "stream",
     "text": [
      "Collecting https://github.com/IBM/skillsnetwork/blob/master/systemml-1.3.0-SNAPSHOT-python.tar.gz?raw=true\n",
      "  Using cached https://github.com/IBM/skillsnetwork/blob/master/systemml-1.3.0-SNAPSHOT-python.tar.gz?raw=true (9.9 MB)\n",
      "Requirement already satisfied (use --upgrade to upgrade): systemml==1.3.0 from https://github.com/IBM/skillsnetwork/blob/master/systemml-1.3.0-SNAPSHOT-python.tar.gz?raw=true in c:\\programdata\\anaconda3\\lib\\site-packages\n",
      "Requirement already satisfied: numpy>=1.8.2 in c:\\programdata\\anaconda3\\lib\\site-packages (from systemml==1.3.0) (1.19.5)\n",
      "Requirement already satisfied: scipy>=0.15.1 in c:\\programdata\\anaconda3\\lib\\site-packages (from systemml==1.3.0) (1.4.1)\n",
      "Requirement already satisfied: pandas in c:\\programdata\\anaconda3\\lib\\site-packages (from systemml==1.3.0) (1.0.1)\n",
      "Requirement already satisfied: scikit-learn in c:\\programdata\\anaconda3\\lib\\site-packages (from systemml==1.3.0) (0.22.1)\n",
      "Requirement already satisfied: Pillow>=2.0.0 in c:\\programdata\\anaconda3\\lib\\site-packages (from systemml==1.3.0) (7.0.0)\n",
      "Requirement already satisfied: pytz>=2017.2 in c:\\programdata\\anaconda3\\lib\\site-packages (from pandas->systemml==1.3.0) (2019.3)\n",
      "Requirement already satisfied: python-dateutil>=2.6.1 in c:\\programdata\\anaconda3\\lib\\site-packages (from pandas->systemml==1.3.0) (2.8.1)\n",
      "Requirement already satisfied: joblib>=0.11 in c:\\programdata\\anaconda3\\lib\\site-packages (from scikit-learn->systemml==1.3.0) (0.14.1)\n",
      "Requirement already satisfied: six>=1.5 in c:\\programdata\\anaconda3\\lib\\site-packages (from python-dateutil>=2.6.1->pandas->systemml==1.3.0) (1.15.0)\n",
      "Building wheels for collected packages: systemml\n",
      "  Building wheel for systemml (setup.py): started\n",
      "  Building wheel for systemml (setup.py): finished with status 'done'\n",
      "  Created wheel for systemml: filename=systemml-1.3.0-py3-none-any.whl size=9882974 sha256=257e85e50676998f245e402e8ffeefa21de32b18dc34e6f00580ce41e55080b4\n",
      "  Stored in directory: c:\\users\\bilgi\\appdata\\local\\pip\\cache\\wheels\\b5\\f3\\65\\f44f93bcc9afc8fec7730345c4697654213f4c992e4608ac56\n",
      "Successfully built systemml\n"
     ]
    }
   ],
   "source": [
    "!pip install https://github.com/IBM/skillsnetwork/blob/master/systemml-1.3.0-SNAPSHOT-python.tar.gz?raw=true"
   ]
  },
  {
   "cell_type": "code",
   "execution_count": 5,
   "metadata": {},
   "outputs": [],
   "source": [
    "import pyspark\n",
    "from pyspark import SparkContext, SparkConf\n",
    "from pyspark.sql import SQLContext, SparkSession\n",
    "from pyspark.sql.types import StructType, StructField, DoubleType, IntegerType, StringType\n",
    "sc = SparkContext.getOrCreate(SparkConf().setMaster(\"local[*]\"))\n",
    "from pyspark.sql import SparkSession\n",
    "spark = SparkSession.builder.getOrCreate()"
   ]
  },
  {
   "cell_type": "markdown",
   "metadata": {},
   "source": [
    "So the first thing we need to ensure is that we are on the latest version of SystemML, which is 1.3.0 (as of 20th March'19) Please use the code block below to check if you are already on 1.3.0 or higher. 1.3 contains a necessary fix, that's we are running against the SNAPSHOT"
   ]
  },
  {
   "cell_type": "code",
   "execution_count": 7,
   "metadata": {},
   "outputs": [],
   "source": [
    "if not os.path.exists('~\\home\\dsxuser\\work\\systemml'):\n",
    "    ! mkdir -p ~\\home\\dsxuser\\work\\systemml\n",
    "#! mkdir -p ~\\home\\dsxuser\\work\\systemml"
   ]
  },
  {
   "cell_type": "code",
   "execution_count": 8,
   "metadata": {},
   "outputs": [
    {
     "name": "stdout",
     "output_type": "stream",
     "text": [
      "1.3.0-SNAPSHOT\n"
     ]
    }
   ],
   "source": [
    "from systemml import MLContext, dml\n",
    "ml = MLContext(spark)\n",
    "ml.setConfigProperty(\"sysml.localtmpdir\", \"mkdir /home/dsxuser/work/systemml\")\n",
    "print(ml.version())\n",
    "    \n",
    "if not ml.version() == '1.3.0-SNAPSHOT':\n",
    "    raise ValueError('please upgrade to SystemML 1.3.0, or restart your Kernel (Kernel->Restart & Clear Output)')"
   ]
  },
  {
   "cell_type": "code",
   "execution_count": 15,
   "metadata": {},
   "outputs": [],
   "source": [
    "package = \"wget\"\n",
    "try:\n",
    "    __import__package\n",
    "except:\n",
    "    #! pip install wget\n",
    "    os.system(\"pip install \"+ package)\n",
    "    import wget"
   ]
  },
  {
   "cell_type": "code",
   "execution_count": 17,
   "metadata": {},
   "outputs": [
    {
     "data": {
      "text/plain": [
       "'shake.parquet'"
      ]
     },
     "execution_count": 17,
     "metadata": {},
     "output_type": "execute_result"
    }
   ],
   "source": [
    "url = 'https://github.com/IBM/coursera/blob/master/coursera_ml/shake.parquet?raw=true'\n",
    "\n",
    "if os.path.exists(\"shake.parquet\"):\n",
    "  os.remove(\"shake.parquet\")\n",
    "else:\n",
    "  print(\"The file does not exist\") \n",
    "\n",
    "wget.download(url)"
   ]
  },
  {
   "cell_type": "markdown",
   "metadata": {},
   "source": [
    "Now it’s time to read the sensor data and create a temporary query table."
   ]
  },
  {
   "cell_type": "code",
   "execution_count": 18,
   "metadata": {},
   "outputs": [],
   "source": [
    "df=spark.read.parquet('shake.parquet')"
   ]
  },
  {
   "cell_type": "code",
   "execution_count": 19,
   "metadata": {},
   "outputs": [
    {
     "name": "stdout",
     "output_type": "stream",
     "text": [
      "+-----+---------+-----+-----+-----+\n",
      "|CLASS| SENSORID|    X|    Y|    Z|\n",
      "+-----+---------+-----+-----+-----+\n",
      "|    2| qqqqqqqq| 0.12| 0.12| 0.12|\n",
      "|    2|aUniqueID| 0.03| 0.03| 0.03|\n",
      "|    2| qqqqqqqq|-3.84|-3.84|-3.84|\n",
      "|    2| 12345678| -0.1| -0.1| -0.1|\n",
      "|    2| 12345678|-0.15|-0.15|-0.15|\n",
      "|    2| 12345678| 0.47| 0.47| 0.47|\n",
      "|    2| 12345678|-0.06|-0.06|-0.06|\n",
      "|    2| 12345678|-0.09|-0.09|-0.09|\n",
      "|    2| 12345678| 0.21| 0.21| 0.21|\n",
      "|    2| 12345678|-0.08|-0.08|-0.08|\n",
      "|    2| 12345678| 0.44| 0.44| 0.44|\n",
      "|    2|    gholi| 0.76| 0.76| 0.76|\n",
      "|    2|    gholi| 1.62| 1.62| 1.62|\n",
      "|    2|    gholi| 5.81| 5.81| 5.81|\n",
      "|    2| bcbcbcbc| 0.58| 0.58| 0.58|\n",
      "|    2| bcbcbcbc|-8.24|-8.24|-8.24|\n",
      "|    2| bcbcbcbc|-0.45|-0.45|-0.45|\n",
      "|    2| bcbcbcbc| 1.03| 1.03| 1.03|\n",
      "|    2|aUniqueID|-0.05|-0.05|-0.05|\n",
      "|    2| qqqqqqqq|-0.44|-0.44|-0.44|\n",
      "+-----+---------+-----+-----+-----+\n",
      "only showing top 20 rows\n",
      "\n"
     ]
    }
   ],
   "source": [
    "df.show()"
   ]
  },
  {
   "cell_type": "code",
   "execution_count": 21,
   "metadata": {},
   "outputs": [
    {
     "name": "stdout",
     "output_type": "stream",
     "text": [
      "Pixiedust database opened successfully\n"
     ]
    },
    {
     "data": {
      "text/html": [
       "\n",
       "        <div style=\"margin:10px\">\n",
       "            <a href=\"https://github.com/ibm-watson-data-lab/pixiedust\" target=\"_new\">\n",
       "                <img src=\"https://github.com/ibm-watson-data-lab/pixiedust/raw/master/docs/_static/pd_icon32.png\" style=\"float:left;margin-right:10px\"/>\n",
       "            </a>\n",
       "            <span>Pixiedust version 1.1.19</span>\n",
       "        </div>\n",
       "        "
      ],
      "text/plain": [
       "<IPython.core.display.HTML object>"
      ]
     },
     "metadata": {},
     "output_type": "display_data"
    }
   ],
   "source": [
    "#!pip install --user --upgrade pixiedust\n",
    "package = \"pixiedust\"\n",
    "try:\n",
    "    __import__package\n",
    "except:\n",
    "    os.system(\"pip install \"+ package)\n",
    "    import pixiedust"
   ]
  },
  {
   "cell_type": "code",
   "execution_count": 22,
   "metadata": {},
   "outputs": [
    {
     "data": {
      "text/plain": [
       "DataFrame[CLASS: bigint, SENSORID: string, X: double, Y: double, Z: double]"
      ]
     },
     "metadata": {},
     "output_type": "display_data"
    }
   ],
   "source": [
    "import pixiedust\n",
    "display(df)"
   ]
  },
  {
   "cell_type": "code",
   "execution_count": 23,
   "metadata": {},
   "outputs": [],
   "source": [
    "df.createOrReplaceTempView(\"df\")"
   ]
  },
  {
   "cell_type": "markdown",
   "metadata": {},
   "source": [
    "\n",
    "\n",
    "We’ll use Apache SystemML to implement Discrete Fourier Transformation. This way all computation continues to happen on the Apache Spark cluster for advanced scalability and performance.\n",
    "\n",
    "As you’ve learned from the lecture, implementing Discrete Fourier Transformation in a linear algebra programming language is simple. Apache SystemML DML is such a language and as you can see the implementation is straightforward and doesn’t differ too much from the mathematical definition (Just note that the sum operator has been swapped with a vector dot product using the %*% syntax borrowed from R ):\n",
    "\n",
    "$X_k = \\sum_{n=0}^{N_1} x_n . e^{-2\\pi i k n/N}$\n",
    "\n",
    "$=\\sum_{n=0}^{N-1} x_n [cos(2 \\pi k n/N) - i sin(2 \\pi k n/N)]$"
   ]
  },
  {
   "cell_type": "code",
   "execution_count": 24,
   "metadata": {},
   "outputs": [],
   "source": [
    "dml_script = '''\n",
    "PI = 3.141592654\n",
    "N = nrow(signal)\n",
    "\n",
    "n = seq(0, N-1, 1)\n",
    "k = seq(0, N-1, 1)\n",
    "\n",
    "M = (n %*% t(k))*(2*PI/N)\n",
    "\n",
    "Xa = cos(M) %*% signal\n",
    "Xb = sin(M) %*% signal\n",
    "\n",
    "DFT = cbind(Xa, Xb)\n",
    "'''"
   ]
  },
  {
   "cell_type": "markdown",
   "metadata": {},
   "source": [
    "Now it’s time to create a function which takes a single row Apache Spark data frame as argument (the one containing the accelerometer measurement time series for one axis) and returns the Fourier transformation of it. In addition, we are adding an index column for later joining all axis together and renaming the columns to appropriate names. The result of this function is an Apache Spark DataFrame containing the Fourier Transformation of its input in two columns."
   ]
  },
  {
   "cell_type": "code",
   "execution_count": 25,
   "metadata": {},
   "outputs": [],
   "source": [
    "from pyspark.sql.functions import monotonically_increasing_id\n",
    "\n",
    "def dft_systemml(signal,name):\n",
    "\n",
    "    prog = dml(dml_script).input('signal', signal).output('DFT')\n",
    "    \n",
    "    return (\n",
    "\n",
    "    #execute the script inside the SystemML engine running on top of Apache Spark\n",
    "    ml.execute(prog) \n",
    "     \n",
    "         #read result from SystemML execution back as SystemML Matrix\n",
    "        .get('DFT') \n",
    "     \n",
    "         #convert SystemML Matrix to ApacheSpark DataFrame \n",
    "        .toDF() \n",
    "     \n",
    "         #rename default column names\n",
    "        .selectExpr('C1 as %sa' % (name), 'C2 as %sb' % (name)) \n",
    "     \n",
    "         #add unique ID per row for later joining\n",
    "        .withColumn(\"id\", monotonically_increasing_id())\n",
    "    )"
   ]
  },
  {
   "cell_type": "markdown",
   "metadata": {},
   "source": [
    "\n",
    "\n",
    "Now it’s time to create individual DataFrames containing only a subset of the data. We filter simultaneously for accelerometer each sensor axis and one for each class. This means you’ll get 6 DataFrames. Please implement this using the relational API of DataFrames or SparkSQL. Please use class 1 and 2 and not 0 and 1.\n",
    "\n",
    "Please make sure that each DataFrame has only ONE colum (only the measurement, eg. not CLASS column)\n"
   ]
  },
  {
   "cell_type": "code",
   "execution_count": 26,
   "metadata": {},
   "outputs": [],
   "source": [
    "import numpy as np\n",
    "x0= spark.sql(\"SELECT X from df WHERE CLASS=1\")\n",
    "y0= spark.sql(\"SELECT Y from df WHERE CLASS=1\")\n",
    "z0= spark.sql(\"SELECT Z from df WHERE CLASS=1\")\n",
    "\n",
    "x1= spark.sql(\"SELECT X from df WHERE CLASS=2\")\n",
    "y1= spark.sql(\"SELECT Y from df WHERE CLASS=2\")\n",
    "z1= spark.sql(\"SELECT Z from df WHERE CLASS=2\")"
   ]
  },
  {
   "cell_type": "markdown",
   "metadata": {},
   "source": [
    "\n",
    "\n",
    "Since we’ve created this cool DFT function before, we can just call it for each of the 6 DataFrames now. And since the result of this function call is a DataFrame again we can use the pyspark best practice in simply calling methods on it sequentially. So what we are doing is the following:\n",
    "\n",
    "    Calling DFT for each class and accelerometer sensor axis.\n",
    "    Joining them together on the ID column.\n",
    "    Re-adding a column containing the class index.\n",
    "    Stacking both Dataframes for each classes together\n",
    "\n"
   ]
  },
  {
   "cell_type": "code",
   "execution_count": 28,
   "metadata": {},
   "outputs": [
    {
     "name": "stdout",
     "output_type": "stream",
     "text": [
      "SystemML Statistics:\n",
      "Total execution time:\t\t0.234 sec.\n",
      "Number of executed Spark inst:\t0.\n",
      "\n",
      "\n",
      "SystemML Statistics:\n",
      "Total execution time:\t\t0.054 sec.\n",
      "Number of executed Spark inst:\t0.\n",
      "\n",
      "\n",
      "SystemML Statistics:\n",
      "Total execution time:\t\t0.044 sec.\n",
      "Number of executed Spark inst:\t0.\n",
      "\n",
      "\n",
      "[Stage 18:>                                                         (0 + 8) / 8]\n",
      "[Stage 18:=====================>                                    (3 + 5) / 8]\n",
      "[Stage 18:===========================================>              (6 + 2) / 8]\n",
      "[Stage 18:==================================================>       (7 + 1) / 8]\n",
      "[Stage 20:>                                                         (0 + 8) / 8]\n",
      "[Stage 20:=====================>                                    (3 + 5) / 8]\n",
      "SystemML Statistics:\n",
      "Total execution time:\t\t9.750 sec.\n",
      "Number of executed Spark inst:\t6.\n",
      "\n",
      "                                                                                \n",
      "\n",
      "[Stage 26:>                                                         (0 + 8) / 8]\n",
      "[Stage 26:===========================================>              (6 + 2) / 8]\n",
      "                                                                                \n",
      "[Stage 28:>                                                         (0 + 8) / 8]\n",
      "SystemML Statistics:\n",
      "Total execution time:\t\t5.025 sec.\n",
      "Number of executed Spark inst:\t6.\n",
      "\n",
      "                                                                                \n",
      "\n",
      "[Stage 34:>                                                         (0 + 8) / 8]\n",
      "                                                                                \n",
      "[Stage 36:>                                                         (0 + 8) / 8]\n",
      "[Stage 36:===========================================>              (6 + 2) / 8]\n",
      "SystemML Statistics:\n",
      "Total execution time:\t\t5.237 sec.\n",
      "Number of executed Spark inst:\t6.\n",
      "\n",
      "                                                                                \n",
      "\n",
      "+-----------+--------------------+--------------------+--------------------+--------------------+--------------------+--------------------+-----+\n",
      "|         id|                  xa|                  xb|                  ya|                  yb|                  za|                  zb|class|\n",
      "+-----------+--------------------+--------------------+--------------------+--------------------+--------------------+--------------------+-----+\n",
      "|17179869191|-0.03750866686245739|-0.00607638770223...|-0.03750866686245739|-0.00607638770223...|-0.03750866686245739|-0.00607638770223...|    0|\n",
      "| 8589934592| -0.0213952544564988| -0.1156058071676539| -0.0213952544564988| -0.1156058071676539| -0.0213952544564988| -0.1156058071676539|    0|\n",
      "|34359738369|-0.13783372334014835|-0.06305345056979533|-0.13783372334014835|-0.06305345056979533|-0.13783372334014835|-0.06305345056979533|    0|\n",
      "|          0|-0.03232568625987...| 0.08552771465661582|-0.03232568625987...| 0.08552771465661582|-0.03232568625987...| 0.08552771465661582|    0|\n",
      "|25769803790|0.006260524476137005|-0.05765058448048809|0.006260524476137005|-0.05765058448048809|0.006260524476137005|-0.05765058448048809|    0|\n",
      "|25769803780| 0.04131895946735583| 0.02405619286297824| 0.04131895946735583| 0.02405619286297824| 0.04131895946735583| 0.02405619286297824|    0|\n",
      "| 8589934596|-0.07494632636975795| 0.07987898830239344|-0.07494632636975795| 0.07987898830239344|-0.07494632636975795| 0.07987898830239344|    0|\n",
      "| 8589934599| 0.00591146441475935| 0.07661296088428358| 0.00591146441475935| 0.07661296088428358| 0.00591146441475935| 0.07661296088428358|    0|\n",
      "|42949672966| -0.1433589088393247|-0.04024764704794...| -0.1433589088393247|-0.04024764704794...| -0.1433589088393247|-0.04024764704794...|    0|\n",
      "|25769803789|  0.0877424196298842|-0.04399627953075756|  0.0877424196298842|-0.04399627953075756|  0.0877424196298842|-0.04399627953075756|    0|\n",
      "|51539607563|-0.00895316189594...| -0.0969949270045784|-0.00895316189594...| -0.0969949270045784|-0.00895316189594...| -0.0969949270045784|    0|\n",
      "|          7|  0.0334907666040125|  0.0703175032167542|  0.0334907666040125|  0.0703175032167542|  0.0334907666040125|  0.0703175032167542|    0|\n",
      "|25769803787| -0.0189063133643019|-0.08871621465767468| -0.0189063133643019|-0.08871621465767468| -0.0189063133643019|-0.08871621465767468|    0|\n",
      "| 8589934598|-0.00210545496225463|-0.00516917411410...|-0.00210545496225463|-0.00516917411410...|-0.00210545496225463|-0.00516917411410...|    0|\n",
      "|42949672971|-0.06864428402270273|-0.06538926569940606|-0.06864428402270273|-0.06538926569940606|-0.06864428402270273|-0.06538926569940606|    0|\n",
      "|51539607565|   0.087742414942036| 0.04399628388176639|   0.087742414942036| 0.04399628388176639|   0.087742414942036| 0.04399628388176639|    0|\n",
      "|25769803786| 0.06623586736304733| 0.01922025213327444| 0.06623586736304733| 0.01922025213327444| 0.06623586736304733| 0.01922025213327444|    0|\n",
      "|42949672965|-0.04728754801118949| 0.07005979666229584|-0.04728754801118949| 0.07005979666229584|-0.04728754801118949| 0.07005979666229584|    0|\n",
      "|42949672970|-0.01014654201362...|-0.05732756250962963|-0.01014654201362...|-0.05732756250962963|-0.01014654201362...|-0.05732756250962963|    0|\n",
      "|34359738373| 0.08065616290607885|0.036400766094453745| 0.08065616290607885|0.036400766094453745| 0.08065616290607885|0.036400766094453745|    0|\n",
      "+-----------+--------------------+--------------------+--------------------+--------------------+--------------------+--------------------+-----+\n",
      "only showing top 20 rows\n",
      "\n"
     ]
    }
   ],
   "source": [
    "from pyspark.sql.functions import lit\n",
    "df_class_0 = dft_systemml(x0,'x') \\\n",
    "    .join(dft_systemml(y0,'y'), on=['id'], how='inner') \\\n",
    "    .join(dft_systemml(z0,'z'), on=['id'], how='inner') \\\n",
    "    .withColumn('class', lit(0))\n",
    "\n",
    "df_class_1 = dft_systemml(x1,'x') \\\n",
    "    .join(dft_systemml(y1,'y'), on=['id'], how='inner') \\\n",
    "    .join(dft_systemml(z1,'z'), on=['id'], how='inner') \\\n",
    "    .withColumn('class', lit(1))\n",
    "    \n",
    "df_dft = df_class_0.union(df_class_1)\n",
    "\n",
    "df_dft.show()"
   ]
  },
  {
   "cell_type": "markdown",
   "metadata": {},
   "source": [
    "Please create a VectorAssembler which consumes the newly created DFT columns and produces a column “features”"
   ]
  },
  {
   "cell_type": "code",
   "execution_count": 29,
   "metadata": {},
   "outputs": [],
   "source": [
    "from pyspark.ml.feature import VectorAssembler"
   ]
  },
  {
   "cell_type": "code",
   "execution_count": 30,
   "metadata": {},
   "outputs": [],
   "source": [
    "###YOUR_CODE_GOES_HERE### \n",
    "vectorAssembler = VectorAssembler(inputCols=[\"xa\",\"xb\",\"ya\",\"yb\",\"za\",\"zb\"],\n",
    "                                  outputCol=\"features\") "
   ]
  },
  {
   "cell_type": "markdown",
   "metadata": {},
   "source": [
    "Please insatiate a classifier from the SparkML package and assign it to the classifier variable. Make sure to set the “class” column as target."
   ]
  },
  {
   "cell_type": "code",
   "execution_count": 31,
   "metadata": {},
   "outputs": [],
   "source": [
    "from pyspark.ml.classification import GBTClassifier"
   ]
  },
  {
   "cell_type": "code",
   "execution_count": 32,
   "metadata": {},
   "outputs": [],
   "source": [
    "classifier = GBTClassifier(labelCol=\"class\", featuresCol=\"features\", maxIter=10)###YOUR_CODE_GOES_HERE###"
   ]
  },
  {
   "cell_type": "markdown",
   "metadata": {},
   "source": [
    "\n",
    "\n",
    "Let’s train and evaluate…\n"
   ]
  },
  {
   "cell_type": "code",
   "execution_count": 33,
   "metadata": {},
   "outputs": [],
   "source": [
    "from pyspark.ml import Pipeline\n",
    "pipeline = Pipeline(stages=[vectorAssembler, classifier])"
   ]
  },
  {
   "cell_type": "code",
   "execution_count": 34,
   "metadata": {},
   "outputs": [],
   "source": [
    "model = pipeline.fit(df_dft)"
   ]
  },
  {
   "cell_type": "code",
   "execution_count": 35,
   "metadata": {},
   "outputs": [],
   "source": [
    "prediction = model.transform(df_dft)"
   ]
  },
  {
   "cell_type": "code",
   "execution_count": 36,
   "metadata": {},
   "outputs": [
    {
     "name": "stdout",
     "output_type": "stream",
     "text": [
      "+-----------+--------------------+--------------------+--------------------+--------------------+--------------------+--------------------+-----+--------------------+--------------------+--------------------+----------+\n",
      "|         id|                  xa|                  xb|                  ya|                  yb|                  za|                  zb|class|            features|       rawPrediction|         probability|prediction|\n",
      "+-----------+--------------------+--------------------+--------------------+--------------------+--------------------+--------------------+-----+--------------------+--------------------+--------------------+----------+\n",
      "|17179869191|-0.03750866686245739|-0.00607638770223...|-0.03750866686245739|-0.00607638770223...|-0.03750866686245739|-0.00607638770223...|    0|[-0.0375086668624...|[0.83002855223973...|[0.84024566850429...|       0.0|\n",
      "| 8589934592| -0.0213952544564988| -0.1156058071676539| -0.0213952544564988| -0.1156058071676539| -0.0213952544564988| -0.1156058071676539|    0|[-0.0213952544564...|[0.88066422361181...|[0.85337596077307...|       0.0|\n",
      "|34359738369|-0.13783372334014835|-0.06305345056979533|-0.13783372334014835|-0.06305345056979533|-0.13783372334014835|-0.06305345056979533|    0|[-0.1378337233401...|[0.83002855223973...|[0.84024566850429...|       0.0|\n",
      "|          0|-0.03232568625987...| 0.08552771465661582|-0.03232568625987...| 0.08552771465661582|-0.03232568625987...| 0.08552771465661582|    0|[-0.0323256862598...|[0.83002855223973...|[0.84024566850429...|       0.0|\n",
      "|25769803790|0.006260524476137005|-0.05765058448048809|0.006260524476137005|-0.05765058448048809|0.006260524476137005|-0.05765058448048809|    0|[0.00626052447613...|[0.88066422361181...|[0.85337596077307...|       0.0|\n",
      "|25769803780| 0.04131895946735583| 0.02405619286297824| 0.04131895946735583| 0.02405619286297824| 0.04131895946735583| 0.02405619286297824|    0|[0.04131895946735...|[0.88066422361181...|[0.85337596077307...|       0.0|\n",
      "| 8589934596|-0.07494632636975795| 0.07987898830239344|-0.07494632636975795| 0.07987898830239344|-0.07494632636975795| 0.07987898830239344|    0|[-0.0749463263697...|[0.83002855223973...|[0.84024566850429...|       0.0|\n",
      "| 8589934599| 0.00591146441475935| 0.07661296088428358| 0.00591146441475935| 0.07661296088428358| 0.00591146441475935| 0.07661296088428358|    0|[0.00591146441475...|[0.88066422361181...|[0.85337596077307...|       0.0|\n",
      "|42949672966| -0.1433589088393247|-0.04024764704794...| -0.1433589088393247|-0.04024764704794...| -0.1433589088393247|-0.04024764704794...|    0|[-0.1433589088393...|[0.83002855223973...|[0.84024566850429...|       0.0|\n",
      "|25769803789|  0.0877424196298842|-0.04399627953075756|  0.0877424196298842|-0.04399627953075756|  0.0877424196298842|-0.04399627953075756|    0|[0.08774241962988...|[0.88066422361181...|[0.85337596077307...|       0.0|\n",
      "|51539607563|-0.00895316189594...| -0.0969949270045784|-0.00895316189594...| -0.0969949270045784|-0.00895316189594...| -0.0969949270045784|    0|[-0.0089531618959...|[0.88066422361181...|[0.85337596077307...|       0.0|\n",
      "|          7|  0.0334907666040125|  0.0703175032167542|  0.0334907666040125|  0.0703175032167542|  0.0334907666040125|  0.0703175032167542|    0|[0.03349076660401...|[0.88066422361181...|[0.85337596077307...|       0.0|\n",
      "|25769803787| -0.0189063133643019|-0.08871621465767468| -0.0189063133643019|-0.08871621465767468| -0.0189063133643019|-0.08871621465767468|    0|[-0.0189063133643...|[0.88066422361181...|[0.85337596077307...|       0.0|\n",
      "| 8589934598|-0.00210545496225463|-0.00516917411410...|-0.00210545496225463|-0.00516917411410...|-0.00210545496225463|-0.00516917411410...|    0|[-0.0021054549622...|[0.88066422361181...|[0.85337596077307...|       0.0|\n",
      "|42949672971|-0.06864428402270273|-0.06538926569940606|-0.06864428402270273|-0.06538926569940606|-0.06864428402270273|-0.06538926569940606|    0|[-0.0686442840227...|[0.83002855223973...|[0.84024566850429...|       0.0|\n",
      "|51539607565|   0.087742414942036| 0.04399628388176639|   0.087742414942036| 0.04399628388176639|   0.087742414942036| 0.04399628388176639|    0|[0.08774241494203...|[0.88066422361181...|[0.85337596077307...|       0.0|\n",
      "|25769803786| 0.06623586736304733| 0.01922025213327444| 0.06623586736304733| 0.01922025213327444| 0.06623586736304733| 0.01922025213327444|    0|[0.06623586736304...|[0.88066422361181...|[0.85337596077307...|       0.0|\n",
      "|42949672965|-0.04728754801118949| 0.07005979666229584|-0.04728754801118949| 0.07005979666229584|-0.04728754801118949| 0.07005979666229584|    0|[-0.0472875480111...|[0.83002855223973...|[0.84024566850429...|       0.0|\n",
      "|42949672970|-0.01014654201362...|-0.05732756250962963|-0.01014654201362...|-0.05732756250962963|-0.01014654201362...|-0.05732756250962963|    0|[-0.0101465420136...|[0.88066422361181...|[0.85337596077307...|       0.0|\n",
      "|34359738373| 0.08065616290607885|0.036400766094453745| 0.08065616290607885|0.036400766094453745| 0.08065616290607885|0.036400766094453745|    0|[0.08065616290607...|[0.88066422361181...|[0.85337596077307...|       0.0|\n",
      "+-----------+--------------------+--------------------+--------------------+--------------------+--------------------+--------------------+-----+--------------------+--------------------+--------------------+----------+\n",
      "only showing top 20 rows\n",
      "\n"
     ]
    }
   ],
   "source": [
    "prediction.show()"
   ]
  },
  {
   "cell_type": "code",
   "execution_count": 37,
   "metadata": {},
   "outputs": [
    {
     "data": {
      "text/plain": [
       "0.9981761070017225"
      ]
     },
     "execution_count": 37,
     "metadata": {},
     "output_type": "execute_result"
    }
   ],
   "source": [
    "from pyspark.ml.evaluation import MulticlassClassificationEvaluator\n",
    "binEval = MulticlassClassificationEvaluator().setMetricName(\"accuracy\") .setPredictionCol(\"prediction\").setLabelCol(\"class\")\n",
    "    \n",
    "binEval.evaluate(prediction)"
   ]
  },
  {
   "cell_type": "markdown",
   "metadata": {},
   "source": [
    "If you are happy with the result (I’m happy with > 0.8) please submit your solution to the grader by executing the following cells, please don’t forget to obtain an assignment submission token (secret) from the Courera’s graders web page and paste it to the “secret” variable below, including your email address you’ve used for Coursera."
   ]
  },
  {
   "cell_type": "code",
   "execution_count": 38,
   "metadata": {},
   "outputs": [
    {
     "name": "stderr",
     "output_type": "stream",
     "text": [
      "'rm' is not recognized as an internal or external command,\n",
      "operable program or batch file.\n"
     ]
    }
   ],
   "source": [
    "!rm -Rf a2_m4.json\n"
   ]
  },
  {
   "cell_type": "code",
   "execution_count": 39,
   "metadata": {},
   "outputs": [],
   "source": [
    "!del -Rf a2_m4.json"
   ]
  },
  {
   "cell_type": "code",
   "execution_count": 40,
   "metadata": {},
   "outputs": [],
   "source": [
    "prediction = prediction.repartition(1)"
   ]
  },
  {
   "cell_type": "code",
   "execution_count": 44,
   "metadata": {},
   "outputs": [],
   "source": [
    "#prediction.write.json('a2_m4.json')  # Py4JJavaError: An error occurred while calling o449.json"
   ]
  },
  {
   "cell_type": "code",
   "execution_count": 41,
   "metadata": {},
   "outputs": [],
   "source": [
    "# Convert DF to PD and write json\n",
    "prediction_pd = prediction.toPandas()\n",
    "prediction_pd.to_csv('prediction.csv') # inspect the file"
   ]
  },
  {
   "cell_type": "code",
   "execution_count": 42,
   "metadata": {},
   "outputs": [
    {
     "data": {
      "text/html": [
       "<div>\n",
       "<style scoped>\n",
       "    .dataframe tbody tr th:only-of-type {\n",
       "        vertical-align: middle;\n",
       "    }\n",
       "\n",
       "    .dataframe tbody tr th {\n",
       "        vertical-align: top;\n",
       "    }\n",
       "\n",
       "    .dataframe thead th {\n",
       "        text-align: right;\n",
       "    }\n",
       "</style>\n",
       "<table border=\"1\" class=\"dataframe\">\n",
       "  <thead>\n",
       "    <tr style=\"text-align: right;\">\n",
       "      <th></th>\n",
       "      <th>id</th>\n",
       "      <th>xa</th>\n",
       "      <th>xb</th>\n",
       "      <th>ya</th>\n",
       "      <th>yb</th>\n",
       "      <th>za</th>\n",
       "      <th>zb</th>\n",
       "      <th>class</th>\n",
       "      <th>features</th>\n",
       "      <th>rawPrediction</th>\n",
       "      <th>probability</th>\n",
       "      <th>prediction</th>\n",
       "    </tr>\n",
       "  </thead>\n",
       "  <tbody>\n",
       "    <tr>\n",
       "      <th>0</th>\n",
       "      <td>17179869191</td>\n",
       "      <td>-0.037509</td>\n",
       "      <td>-0.006076</td>\n",
       "      <td>-0.037509</td>\n",
       "      <td>-0.006076</td>\n",
       "      <td>-0.037509</td>\n",
       "      <td>-0.006076</td>\n",
       "      <td>0</td>\n",
       "      <td>[-0.03750866686245739, -0.006076387702233552, ...</td>\n",
       "      <td>[0.8300285522397316, -0.8300285522397316]</td>\n",
       "      <td>[0.8402456685042936, 0.1597543314957064]</td>\n",
       "      <td>0.0</td>\n",
       "    </tr>\n",
       "    <tr>\n",
       "      <th>1</th>\n",
       "      <td>8589934592</td>\n",
       "      <td>-0.021395</td>\n",
       "      <td>-0.115606</td>\n",
       "      <td>-0.021395</td>\n",
       "      <td>-0.115606</td>\n",
       "      <td>-0.021395</td>\n",
       "      <td>-0.115606</td>\n",
       "      <td>0</td>\n",
       "      <td>[-0.0213952544564988, -0.1156058071676539, -0....</td>\n",
       "      <td>[0.8806642236118194, -0.8806642236118194]</td>\n",
       "      <td>[0.8533759607730729, 0.14662403922692713]</td>\n",
       "      <td>0.0</td>\n",
       "    </tr>\n",
       "    <tr>\n",
       "      <th>2</th>\n",
       "      <td>34359738369</td>\n",
       "      <td>-0.137834</td>\n",
       "      <td>-0.063053</td>\n",
       "      <td>-0.137834</td>\n",
       "      <td>-0.063053</td>\n",
       "      <td>-0.137834</td>\n",
       "      <td>-0.063053</td>\n",
       "      <td>0</td>\n",
       "      <td>[-0.13783372334014835, -0.06305345056979533, -...</td>\n",
       "      <td>[0.8300285522397316, -0.8300285522397316]</td>\n",
       "      <td>[0.8402456685042936, 0.1597543314957064]</td>\n",
       "      <td>0.0</td>\n",
       "    </tr>\n",
       "    <tr>\n",
       "      <th>3</th>\n",
       "      <td>0</td>\n",
       "      <td>-0.032326</td>\n",
       "      <td>0.085528</td>\n",
       "      <td>-0.032326</td>\n",
       "      <td>0.085528</td>\n",
       "      <td>-0.032326</td>\n",
       "      <td>0.085528</td>\n",
       "      <td>0</td>\n",
       "      <td>[-0.032325686259876626, 0.08552771465661582, -...</td>\n",
       "      <td>[0.8300285522397316, -0.8300285522397316]</td>\n",
       "      <td>[0.8402456685042936, 0.1597543314957064]</td>\n",
       "      <td>0.0</td>\n",
       "    </tr>\n",
       "    <tr>\n",
       "      <th>4</th>\n",
       "      <td>25769803790</td>\n",
       "      <td>0.006261</td>\n",
       "      <td>-0.057651</td>\n",
       "      <td>0.006261</td>\n",
       "      <td>-0.057651</td>\n",
       "      <td>0.006261</td>\n",
       "      <td>-0.057651</td>\n",
       "      <td>0</td>\n",
       "      <td>[0.006260524476137005, -0.05765058448048809, 0...</td>\n",
       "      <td>[0.8806642236118194, -0.8806642236118194]</td>\n",
       "      <td>[0.8533759607730729, 0.14662403922692713]</td>\n",
       "      <td>0.0</td>\n",
       "    </tr>\n",
       "  </tbody>\n",
       "</table>\n",
       "</div>"
      ],
      "text/plain": [
       "            id        xa        xb        ya        yb        za        zb  \\\n",
       "0  17179869191 -0.037509 -0.006076 -0.037509 -0.006076 -0.037509 -0.006076   \n",
       "1   8589934592 -0.021395 -0.115606 -0.021395 -0.115606 -0.021395 -0.115606   \n",
       "2  34359738369 -0.137834 -0.063053 -0.137834 -0.063053 -0.137834 -0.063053   \n",
       "3            0 -0.032326  0.085528 -0.032326  0.085528 -0.032326  0.085528   \n",
       "4  25769803790  0.006261 -0.057651  0.006261 -0.057651  0.006261 -0.057651   \n",
       "\n",
       "   class                                           features  \\\n",
       "0      0  [-0.03750866686245739, -0.006076387702233552, ...   \n",
       "1      0  [-0.0213952544564988, -0.1156058071676539, -0....   \n",
       "2      0  [-0.13783372334014835, -0.06305345056979533, -...   \n",
       "3      0  [-0.032325686259876626, 0.08552771465661582, -...   \n",
       "4      0  [0.006260524476137005, -0.05765058448048809, 0...   \n",
       "\n",
       "                               rawPrediction  \\\n",
       "0  [0.8300285522397316, -0.8300285522397316]   \n",
       "1  [0.8806642236118194, -0.8806642236118194]   \n",
       "2  [0.8300285522397316, -0.8300285522397316]   \n",
       "3  [0.8300285522397316, -0.8300285522397316]   \n",
       "4  [0.8806642236118194, -0.8806642236118194]   \n",
       "\n",
       "                                 probability  prediction  \n",
       "0   [0.8402456685042936, 0.1597543314957064]         0.0  \n",
       "1  [0.8533759607730729, 0.14662403922692713]         0.0  \n",
       "2   [0.8402456685042936, 0.1597543314957064]         0.0  \n",
       "3   [0.8402456685042936, 0.1597543314957064]         0.0  \n",
       "4  [0.8533759607730729, 0.14662403922692713]         0.0  "
      ]
     },
     "execution_count": 42,
     "metadata": {},
     "output_type": "execute_result"
    }
   ],
   "source": [
    "prediction_pd.head()"
   ]
  },
  {
   "cell_type": "code",
   "execution_count": 43,
   "metadata": {},
   "outputs": [],
   "source": [
    "import json\n",
    "prediction2Json = prediction_pd.to_json(orient=\"split\")\n",
    "predJsonParsed = json.loads(prediction2Json)\n",
    "json.dumps(predJsonParsed)  \n",
    "\n",
    "with open('a2_m4.json', 'w') as json_file:\n",
    "    json.dump(predJsonParsed, json_file)"
   ]
  },
  {
   "cell_type": "code",
   "execution_count": 50,
   "metadata": {},
   "outputs": [],
   "source": [
    "import os\n",
    "url = 'https://raw.githubusercontent.com/IBM/coursera/master/rklib.py'\n",
    "if os.path.exists(\"rklib.py\"):\n",
    "  os.remove(\"rklib.py\")\n",
    "else:\n",
    "  wget.download(url)"
   ]
  },
  {
   "cell_type": "code",
   "execution_count": 54,
   "metadata": {},
   "outputs": [],
   "source": [
    "#from rklib import zipit\n",
    "#zipit('a2_m4.json.zip','a2_m4.json')\n",
    "# it does not copy the json file to zipfolder. I use the following instead"
   ]
  },
  {
   "cell_type": "code",
   "execution_count": 55,
   "metadata": {},
   "outputs": [],
   "source": [
    "import zipfile\n",
    "zip_file = zipfile.ZipFile('a2_m4.json.zip', 'w')\n",
    "zip_file.write('a2_m4.json', compress_type=zipfile.ZIP_DEFLATED)\n",
    "zip_file.close()"
   ]
  },
  {
   "cell_type": "code",
   "execution_count": 57,
   "metadata": {},
   "outputs": [
    {
     "name": "stderr",
     "output_type": "stream",
     "text": [
      "'base64' is not recognized as an internal or external command,\n",
      "operable program or batch file.\n"
     ]
    }
   ],
   "source": [
    "!base64 \"a2_m4.json.zip\" > \"a2_m4.json.zip.base64\""
   ]
  },
  {
   "cell_type": "code",
   "execution_count": null,
   "metadata": {},
   "outputs": [],
   "source": [
    "from rklib import submit\n",
    "key = \"-fBiYHYDEeiR4QqiFhAvkA\"\n",
    "part = \"IjtJk\"\n",
    "email = ###YOUR_CODE_GOES_HERE###\n",
    "submission_token = ###YOUR_CODE_GOES_HERE### # (have a look here if you need more information on how to obtain the token https://youtu.be/GcDo0Rwe06U?t=276)\n",
    "\n",
    "with open('a2_m4.json.zip.base64', 'r') as myfile:\n",
    "    data=myfile.read()\n",
    "submit(email, submission_token, key, part, [part], data)"
   ]
  }
 ],
 "metadata": {
  "kernelspec": {
   "display_name": "Python 3",
   "language": "python",
   "name": "python3"
  },
  "language_info": {
   "codemirror_mode": {
    "name": "ipython",
    "version": 3
   },
   "file_extension": ".py",
   "mimetype": "text/x-python",
   "name": "python",
   "nbconvert_exporter": "python",
   "pygments_lexer": "ipython3",
   "version": "3.7.6"
  }
 },
 "nbformat": 4,
 "nbformat_minor": 4
}
